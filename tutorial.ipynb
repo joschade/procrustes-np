{
 "cells": [
  {
   "cell_type": "markdown",
   "metadata": {},
   "source": [
    "Import the Module:"
   ]
  },
  {
   "cell_type": "code",
   "execution_count": 20,
   "metadata": {},
   "outputs": [],
   "source": [
    "from procrustes_np import orthogonal_procrustes"
   ]
  },
  {
   "cell_type": "markdown",
   "metadata": {},
   "source": [
    "Let us sample some toy matrices:"
   ]
  },
  {
   "cell_type": "code",
   "execution_count": 21,
   "metadata": {},
   "outputs": [],
   "source": [
    "import numpy as np\n",
    "A = np.random.random([3,5])\n",
    "B = np.random.random([3,5])"
   ]
  },
  {
   "cell_type": "markdown",
   "metadata": {},
   "source": [
    "Perform procrustes:"
   ]
  },
  {
   "cell_type": "code",
   "execution_count": 22,
   "metadata": {},
   "outputs": [
    {
     "name": "stdout",
     "output_type": "stream",
     "text": [
      "Omega=array([[-0.23948492,  0.43252491,  0.86923482],\n",
      "       [ 0.87602018, -0.28974871,  0.38553122],\n",
      "       [ 0.41861153,  0.85379616, -0.30951011]])\n",
      "translation=array([-0.22197375,  0.10764797,  0.08014462])\n",
      "distance=np.float64(0.9549228981606555)\n"
     ]
    }
   ],
   "source": [
    "Omega, translation, distance = orthogonal_procrustes(A,B)\n",
    "\n",
    "print(f'{Omega=}')\n",
    "print(f'{translation=}')\n",
    "print(f'{distance=}')"
   ]
  },
  {
   "cell_type": "markdown",
   "metadata": {},
   "source": [
    "To test for plausibilty of the results, let us create a rotated and reflected version of $A$:"
   ]
  },
  {
   "cell_type": "code",
   "execution_count": 23,
   "metadata": {},
   "outputs": [],
   "source": [
    "A_rot = np.array([[1,0,0], [0,0,-1], [0,1,0]]) @ A   \n",
    "A_ref = np.array([[-1,0,0], [0,1,0], [0,0,1]]) @ A"
   ]
  },
  {
   "cell_type": "markdown",
   "metadata": {},
   "source": [
    "Because $A_{rot}$ is a rotated version of $A$, we would expect $\\Omega$ to be exactlly the rotation matrix and the distance = 0:"
   ]
  },
  {
   "cell_type": "code",
   "execution_count": 24,
   "metadata": {},
   "outputs": [
    {
     "name": "stdout",
     "output_type": "stream",
     "text": [
      "Omega=array([[ 1.00000000e+00,  4.30349614e-17,  2.70732431e-18],\n",
      "       [ 1.80871906e-16, -3.71347424e-18, -1.00000000e+00],\n",
      "       [ 1.29039181e-16,  1.00000000e+00, -2.63683065e-16]])\n",
      "translation=array([ 0.        , -0.87187517, -0.09838736])\n",
      "distance=np.float64(5.14882760291023e-16)\n"
     ]
    }
   ],
   "source": [
    "Omega, translation, distance = orthogonal_procrustes(A,A_rot)\n",
    "\n",
    "print(f'{Omega=}')\n",
    "print(f'{translation=}')\n",
    "print(f'{distance=}')"
   ]
  },
  {
   "cell_type": "markdown",
   "metadata": {},
   "source": [
    "If we allow reflection, we expect a similar result (with $\\Omega$ being the reflection matrix):"
   ]
  },
  {
   "cell_type": "code",
   "execution_count": 25,
   "metadata": {},
   "outputs": [
    {
     "name": "stdout",
     "output_type": "stream",
     "text": [
      "Omega=array([[-1.00000000e+00,  1.44653381e-17,  3.24376425e-16],\n",
      "       [ 1.41989054e-16,  1.00000000e+00, -1.31519082e-16],\n",
      "       [-3.13784232e-16,  9.40676833e-17,  1.00000000e+00]])\n",
      "translation=array([-1.29101079,  0.        ,  0.        ])\n",
      "distance=np.float64(7.247823324238602e-16)\n"
     ]
    }
   ],
   "source": [
    "Omega, translation, distance = orthogonal_procrustes(A,A_ref, reflection=True)\n",
    "\n",
    "print(f'{Omega=}')\n",
    "print(f'{translation=}')\n",
    "print(f'{distance=}')"
   ]
  },
  {
   "cell_type": "markdown",
   "metadata": {},
   "source": [
    "However, if we don't permit reflection, both $\\Omega$ and the translation change to a worse fit:"
   ]
  },
  {
   "cell_type": "code",
   "execution_count": 26,
   "metadata": {},
   "outputs": [
    {
     "name": "stdout",
     "output_type": "stream",
     "text": [
      "Omega=array([[-0.28592871,  0.33562436, -0.89755282],\n",
      "       [-0.33562436,  0.84225145,  0.42186347],\n",
      "       [ 0.89755282,  0.42186347, -0.12818016]])\n",
      "translation=array([-1.29101079,  0.        ,  0.        ])\n",
      "distance=np.float64(0.2091088267143207)\n"
     ]
    }
   ],
   "source": [
    "Omega, translation, distance = orthogonal_procrustes(A,A_ref)\n",
    "\n",
    "print(f'{Omega=}')\n",
    "print(f'{translation=}')\n",
    "print(f'{distance=}')"
   ]
  }
 ],
 "metadata": {
  "kernelspec": {
   "display_name": ".venv",
   "language": "python",
   "name": "python3"
  },
  "language_info": {
   "codemirror_mode": {
    "name": "ipython",
    "version": 3
   },
   "file_extension": ".py",
   "mimetype": "text/x-python",
   "name": "python",
   "nbconvert_exporter": "python",
   "pygments_lexer": "ipython3",
   "version": "3.11.0rc1"
  }
 },
 "nbformat": 4,
 "nbformat_minor": 2
}
